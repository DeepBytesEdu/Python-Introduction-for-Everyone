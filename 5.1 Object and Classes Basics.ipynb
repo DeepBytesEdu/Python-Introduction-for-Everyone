{
 "cells": [
  {
   "attachments": {
    "image.png": {
     "image/png": "[encoded data removed]"
    }
   },
   "cell_type": "markdown",
   "metadata": {},
   "source": [
    "Overview Of OOP (Object-Oriented PrOgramming)\n",
    "\n",
    "As we know, Python is an object-oriented programming (OOP) language and provides all the features\n",
    "required to support object-oriented programming. OOP mainly focuses on the objects and classes while\n",
    "procedural programming focuses on the functions and methods.\n",
    "\n",
    "OOP is based on the implementation of real world objects in programming. Such a concept of programming\n",
    "contains objects that contain the data in the form of attributes and classes that contains methods. In this\n",
    "approach, a problem is considered in terms of objects that can be involved in finding the solution to the\n",
    "problem instead of procedures. Hence, through this approach, a person can relate a problem to the real world\n",
    "objects and can work towards its solution with relative ease.\n",
    "\n",
    "Object is an instance of a class. A class is a collection of data (variables) and methods (functions). A class\n",
    "is the basic structure of an object and is a set of attributes, which can be data members and method members.\n",
    "Let us understand the concept with an example. We can relate class to a sketch or model of a building.\n",
    "That sketch contains all the information about the structure of the building, such as floors, doorways, exits,\n",
    "rooms, etc. Now, according to our example, the building is an object. Just as various buildings can be based\n",
    "on one model, so too can a class have many objects associated with it.\n",
    "\n",
    "Some important terms in OOP are as follows:\n",
    "    \n",
    "● Class: Classes are defined by the user; the class provides the basic structure for an object. It consists\n",
    "of data members and method members that are used by the instances (objects) of the class.\n",
    "\n",
    "● Data Member: A variable defined in either a class or an object; it holds the data associated with the\n",
    "class or object.\n",
    "\n",
    "● Instance Variable: A variable that is defined in a method; its scope is only within the object that\n",
    "defines it.\n",
    "\n",
    "● Class Variable: A variable that is defined in the class and can be used by all the instances of that class.\n",
    "    \n",
    "● Instance: An object is an instance of the class.\n",
    "    \n",
    "● Instantiation: The process of creation of an object of a class.\n",
    "    \n",
    "● Method: Methods are the functions that are defined in the definition of class and are used by various\n",
    "instances of the class.\n",
    "\n",
    "● Function Overloading: A function defined more than one time with different behaviours is known as\n",
    "function overloading. The operations performed by these functions are different.\n",
    "\n",
    "Inheritance: A class ‘A’ that can use the characteristics of another class ‘B’ is said to be a derived\n",
    "class, i.e., a class inherited from ‘B’. The process is called inheritance.\n",
    "\n",
    "8.1.1 Data Encapsulation\n",
    "\n",
    "In OOP, restrictions can be imposed on the access to methods and variables. Such restrictions can be used\n",
    "to avoid accidental modification in the data and are known as Encapsulation. Encapsulation is an important\n",
    "feature in OOP.\n",
    "\n",
    "In fact, we can say that OOP relies strictly on Data Encapsulation.\n",
    "\n",
    "Most of us are already familiar with the term abstraction. Abstraction means data-hiding. Encapsulation\n",
    "and abstraction can be used as synonyms since both of them relate to the data-hiding concept.\n",
    "Generally, in the context of programming, we can restrict the access to some of the object’s components,\n",
    "ensuring that these components cannot be accessed from outside the object but from inside the object only.\n",
    "For accessing these types of data, some special methods are used.\n",
    "These methods are known as getters() and setters().\n",
    "\n",
    "8.1.2 Polymorphism\n",
    "\n",
    "The word ‘Poly’ means ‘many’. Therefore, the term ‘polymorphism’ means that the object of a class can\n",
    "have many different forms to respond in different ways to any message or action.\n",
    "In other words, polymorphism is the capability for a message or data to be processed in one or more ways.\n",
    "Let us look at an example:\n",
    "If a base class is mammals, then horse, human, and cat are its subclasses. All the mammals can see in the\n",
    "daytime. Therefore, if the message ‘see in the daytime’ is passed to mammals, all the mammals including the\n",
    "human, the horse and the cat will respond to it. Whereas, if the message ‘see during the night time’ is passed\n",
    "to the mammals, then only the cat will respond to the message as it can see during the night as well as in the\n",
    "daytime. Hence, the cat, which is a mammal, can behave differently from the other mammals.\n",
    "This is called polymorphism and is illustrated in Fig. 8.1\n",
    "\n",
    "![image.png](attachment:image.png)"
   ]
  },
  {
   "cell_type": "markdown",
   "metadata": {},
   "source": [
    "class definitiOn\n",
    "\n",
    "In Python, a class is defined by using a keyword class. After that, the first statement can be a docstring\n",
    "(optional) that contains the information about the class. Now, in the body of class, the attributes are defined.\n",
    "These attributes can be data members or method members.\n",
    "\n",
    "Syntax\n",
    "\n",
    "class class_name:\n",
    "\n",
    "     ‘This is docstring which is optional’\n",
    "     \n",
    "class_suite"
   ]
  },
  {
   "cell_type": "code",
   "execution_count": 33,
   "metadata": {},
   "outputs": [],
   "source": [
    "class Student:\n",
    "    \"student details\"\n",
    "    def fill_details(self,name,branch,year):\n",
    "        self.name = name\n",
    "        self.branch = branch\n",
    "        self.year = year\n",
    "        print(\"A Student detail object is created\")\n",
    "    def print_details(self):\n",
    "        \n",
    "        print(\"Name:\",self.name)\n",
    "        print(\"Branch:\",self.branch)\n",
    "        print(\"Year:\",self.year)"
   ]
  },
  {
   "cell_type": "markdown",
   "metadata": {},
   "source": [
    "creating Objects"
   ]
  },
  {
   "cell_type": "markdown",
   "metadata": {},
   "source": [
    "An object is an instance of a class that has some attributes and behaviour. The object behaves according to\n",
    "the class of which it is an object.\n",
    "Objects can be used to access the attributes of the class. The syntax of creating an object in Python is\n",
    "similar to that for calling a function.\n",
    "                            \n",
    "                            obj_name = class_name()"
   ]
  },
  {
   "cell_type": "code",
   "execution_count": 34,
   "metadata": {},
   "outputs": [],
   "source": [
    "\n",
    "s1 = Student()\n",
    "s2 = Student()"
   ]
  },
  {
   "cell_type": "code",
   "execution_count": 35,
   "metadata": {},
   "outputs": [
    {
     "name": "stdout",
     "output_type": "stream",
     "text": [
      "A Student detail object is created\n"
     ]
    }
   ],
   "source": [
    "# using the method fill_details with proper attributes\n",
    "s1.fill_details(\"John\",\"CSE\",\"2002\")"
   ]
  },
  {
   "cell_type": "code",
   "execution_count": 36,
   "metadata": {},
   "outputs": [
    {
     "name": "stdout",
     "output_type": "stream",
     "text": [
      "A Student detail object is created\n"
     ]
    }
   ],
   "source": [
    "s2.fill_details(\"Jack\",\"ECE\",\"2004\")"
   ]
  },
  {
   "cell_type": "code",
   "execution_count": 37,
   "metadata": {},
   "outputs": [
    {
     "name": "stdout",
     "output_type": "stream",
     "text": [
      "Name: John\n",
      "Branch: CSE\n",
      "Year: 2002\n"
     ]
    }
   ],
   "source": [
    "s1.print_details()"
   ]
  },
  {
   "cell_type": "code",
   "execution_count": 38,
   "metadata": {},
   "outputs": [
    {
     "name": "stdout",
     "output_type": "stream",
     "text": [
      "Name: Jack\n",
      "Branch: ECE\n",
      "Year: 2004\n"
     ]
    }
   ],
   "source": [
    "s2.print_details()"
   ]
  },
  {
   "cell_type": "markdown",
   "metadata": {},
   "source": [
    "Objects are Mutable"
   ]
  },
  {
   "cell_type": "code",
   "execution_count": 40,
   "metadata": {},
   "outputs": [
    {
     "name": "stdout",
     "output_type": "stream",
     "text": [
      "A Student detail object is created\n",
      "Name: John\n",
      "Branch: ECE\n",
      "Year: 2004\n"
     ]
    }
   ],
   "source": [
    "s1 = Student()\n",
    "s1.fill_details(\"John\",\"ECE\",2004)\n",
    "s1.print_details()"
   ]
  },
  {
   "cell_type": "markdown",
   "metadata": {},
   "source": [
    "Objects as arguments"
   ]
  },
  {
   "cell_type": "code",
   "execution_count": 43,
   "metadata": {},
   "outputs": [
    {
     "name": "stdout",
     "output_type": "stream",
     "text": [
      "The triangle is created\n"
     ]
    }
   ],
   "source": [
    "class Triangle:\n",
    "    def create_triangle(self,a,b,c):\n",
    "        self.a = a\n",
    "        self.b = b\n",
    "        self.c = c\n",
    "        print(\"The triangle is created\")\n",
    "    def print_sides(self):\n",
    "        print(\"Side a: \", self.a)\n",
    "        print(\"Side b: \", self.b)\n",
    "        print(\"Side c: \", self.c)\n",
    "t1 = Triangle()\n",
    "t1.create_triangle(10,20,30)"
   ]
  },
  {
   "cell_type": "code",
   "execution_count": 44,
   "metadata": {},
   "outputs": [
    {
     "name": "stdout",
     "output_type": "stream",
     "text": [
      "Side a:  20\n",
      "Side b:  40\n",
      "Side c:  60\n"
     ]
    }
   ],
   "source": [
    "def size_double(obj):\n",
    "    t2 = Triangle()\n",
    "    t2.a = t1.a *2\n",
    "    t2.b = t1.b *2\n",
    "    t2.c = t1.c *2\n",
    "    return t2\n",
    "t2 = size_double(t1) # Passing object as argument\n",
    "t2.print_sides()"
   ]
  },
  {
   "cell_type": "markdown",
   "metadata": {},
   "source": [
    "built-in class attributes\n",
    "\n",
    "In Python, every class contains various built-in attributes. They can be accessed with a dot operator just as\n",
    "in the case of user-defined attributes we have come across earlier.\n",
    "\n",
    "The built-in class attributes in Python are as follows:\n",
    "\n",
    "1. _dict_: It displays the dictionary in which the class’s namespace is stored.\n",
    "\n",
    "2. _name_: It displays the name of the class.\n",
    "\n",
    "3. _bases_: It displays the tuple that contains the base classes, possibly empty. It displays them in the order in which they occur in the base class list.\n",
    "\n",
    "4. _doc_: It displays the documentation string of the class. It displays none if the docstring isn’t given.\n",
    "\n",
    "5. _module_: It displays the name of the module in which the class is defined. Generally, the value\n",
    "\n",
    "of this attribute is “__main__” in interactive mode."
   ]
  },
  {
   "cell_type": "code",
   "execution_count": 47,
   "metadata": {},
   "outputs": [],
   "source": [
    "# Create the class Student\n",
    "class Student:\n",
    "    \"student details\"\n",
    "    # Add method member fill_details\n",
    "    def fill_details(self,name,branch,year):\n",
    "        self.name = name\n",
    "        self.branch = branch\n",
    "        self.year = year\n",
    "        print(\"A Student detail object is created\")\n",
    "        # Add method member print_details\n",
    "    def print_details(self):\n",
    "            print(\"Name: \", self.name)\n",
    "            print(\"Branch: \",self.branch)\n",
    "            print(\"Year: \",self.year)"
   ]
  },
  {
   "cell_type": "code",
   "execution_count": 48,
   "metadata": {},
   "outputs": [
    {
     "name": "stdout",
     "output_type": "stream",
     "text": [
      "Student.__doc__:  student details\n"
     ]
    }
   ],
   "source": [
    "print (\"Student.__doc__: \",Student.__doc__)"
   ]
  },
  {
   "cell_type": "code",
   "execution_count": 49,
   "metadata": {},
   "outputs": [
    {
     "name": "stdout",
     "output_type": "stream",
     "text": [
      "Student.__name__:  Student\n"
     ]
    }
   ],
   "source": [
    "print (\"Student.__name__: \",Student.__name__)"
   ]
  },
  {
   "cell_type": "code",
   "execution_count": 50,
   "metadata": {},
   "outputs": [
    {
     "name": "stdout",
     "output_type": "stream",
     "text": [
      "Student.__module__:  __main__\n"
     ]
    }
   ],
   "source": [
    "print (\"Student.__module__: \" ,Student.__module__)"
   ]
  },
  {
   "cell_type": "code",
   "execution_count": 51,
   "metadata": {},
   "outputs": [
    {
     "name": "stdout",
     "output_type": "stream",
     "text": [
      "Student.__bases__:  (<class 'object'>,)\n"
     ]
    }
   ],
   "source": [
    "print (\"Student.__bases__: \",Student.__bases__)"
   ]
  },
  {
   "cell_type": "code",
   "execution_count": 52,
   "metadata": {},
   "outputs": [
    {
     "name": "stdout",
     "output_type": "stream",
     "text": [
      "Student.__dict__:  {'__module__': '__main__', '__doc__': 'student details', 'fill_details': <function Student.fill_details at 0x000001EAD8E0EB80>, 'print_details': <function Student.print_details at 0x000001EAD8E0EDC0>, '__dict__': <attribute '__dict__' of 'Student' objects>, '__weakref__': <attribute '__weakref__' of 'Student' objects>}\n"
     ]
    }
   ],
   "source": [
    "print (\"Student.__dict__: \", Student.__dict__)"
   ]
  },
  {
   "cell_type": "markdown",
   "metadata": {},
   "source": [
    "inheritance\n",
    "     \n",
    "Syntax\n",
    "\n",
    "             class sub_classname(Parent_classname):\n",
    "             \n",
    "                       ‘Optional Docstring’\n",
    "                       \n",
    "                       Class_suite"
   ]
  },
  {
   "cell_type": "code",
   "execution_count": 64,
   "metadata": {},
   "outputs": [
    {
     "name": "stdout",
     "output_type": "stream",
     "text": [
      "John\n"
     ]
    }
   ],
   "source": [
    "#Define a parent class Person\n",
    "class Person(object):\n",
    "    \"returns a Person object with given name\"\n",
    "    def get_name(self,name):\n",
    "        self.name = name\n",
    "    def get_details(self):\n",
    "        \"returns a string containing name of person\"\n",
    "        return self.name\n",
    "#Define a subclass Student\n",
    "class Student(Person):\n",
    "    \"return a Student object, takes 3 arguments\"\n",
    "\n",
    "    def fill_details(self, name, branch, year):\n",
    "        Person.get_name(self,name)\n",
    "        self.branch = branch\n",
    "        self.year = year\n",
    "    def get_details(self):\n",
    "        \"returns student details\"\n",
    "        print(\"Name: \", self.name)\n",
    "        print(\"Branch: \", self.branch)\n",
    "        print(\"Year: \", self.year)\n",
    "#Define a subclass Teacher\n",
    "class Teacher(Person):\n",
    "    \"returns a Teacher object, takes 2 arguments\"\n",
    "    def fill_details(self, name, branch):\n",
    "        Person.get_name(self,name)\n",
    "        self.branch = branch\n",
    "    def get_details(self):\n",
    "        print(\"Name: \", self.name)\n",
    "        print(\"Branch: \", self.branch)\n",
    "        \n",
    "person1 = Person()\n",
    "student1 = Student()\n",
    "teacher1 = Teacher()\n",
    "\n",
    "person1.get_name(\"John\")\n",
    "student1.fill_details(\"Jinnie\", \"CSE\", 2005)\n",
    "teacher1.fill_details(\"Jack\", \"ECE\")\n",
    "\n",
    "print(person1.get_details())"
   ]
  },
  {
   "cell_type": "code",
   "execution_count": 65,
   "metadata": {},
   "outputs": [
    {
     "name": "stdout",
     "output_type": "stream",
     "text": [
      "Name:  Jinnie\n",
      "Branch:  CSE\n",
      "Year:  2005\n",
      "None\n"
     ]
    }
   ],
   "source": [
    "print(student1.get_details())"
   ]
  },
  {
   "cell_type": "code",
   "execution_count": 66,
   "metadata": {},
   "outputs": [
    {
     "name": "stdout",
     "output_type": "stream",
     "text": [
      "Name:  Jack\n",
      "Branch:  ECE\n",
      "None\n"
     ]
    }
   ],
   "source": [
    "print(teacher1.get_details())"
   ]
  },
  {
   "attachments": {
    "image-2.png": {
     "image/png": "[encoded data removed]"
    },
    "image.png": {
     "image/png": "[encoded data removed]"
    }
   },
   "cell_type": "markdown",
   "metadata": {},
   "source": [
    "Multiple Inheritance\n",
    "![image.png](attachment:image.png)\n",
    "\n",
    "![image-2.png](attachment:image-2.png)"
   ]
  },
  {
   "cell_type": "code",
   "execution_count": 70,
   "metadata": {},
   "outputs": [
    {
     "name": "stdout",
     "output_type": "stream",
     "text": [
      "method of B\n"
     ]
    }
   ],
   "source": [
    "class A: #Defining class A\n",
    "    def x(self):\n",
    "        print(\"method of A\")\n",
    "class B: #Defining Class B\n",
    "    def x(self):\n",
    "        print(\"method of B\")\n",
    "class C(A,B): #Defining class C\n",
    "    pass\n",
    "\n",
    "y = C()\n",
    "\n",
    "B.x(y)\n",
    " "
   ]
  },
  {
   "cell_type": "code",
   "execution_count": 71,
   "metadata": {},
   "outputs": [
    {
     "name": "stdout",
     "output_type": "stream",
     "text": [
      "method of A\n"
     ]
    }
   ],
   "source": [
    "A.x(y)"
   ]
  },
  {
   "cell_type": "markdown",
   "metadata": {},
   "source": [
    "methOd Overriding"
   ]
  },
  {
   "cell_type": "code",
   "execution_count": 73,
   "metadata": {},
   "outputs": [
    {
     "name": "stdout",
     "output_type": "stream",
     "text": [
      "This is in Child Class\n"
     ]
    }
   ],
   "source": [
    "class Parent:\n",
    "    def ovr_method(self):\n",
    "        print (\"This is in Parent Class\")\n",
    "class Child(Parent):\n",
    "    def ovr_method(self):\n",
    "        print (\"This is in Child Class\")\n",
    "c = Child()\n",
    "c.ovr_method()\n",
    " "
   ]
  },
  {
   "attachments": {
    "image.png": {
     "image/png": "[encoded data removed]"
    }
   },
   "cell_type": "markdown",
   "metadata": {},
   "source": [
    "Data encaPsulatiOn\n",
    "\n",
    "![image.png](attachment:image.png)"
   ]
  },
  {
   "cell_type": "markdown",
   "metadata": {},
   "source": [
    "class MyClass(object): # Defining class\n",
    "     def __init__(self, x, y, z):\n",
    "        self.var1 = x # public data member\n",
    "        self._var2 = y # protected data member\n",
    "        self.__var3 = z # private data member\n",
    "        \n",
    "obj = MyClass(3,4,5)\n",
    "obj.var1"
   ]
  },
  {
   "cell_type": "code",
   "execution_count": 75,
   "metadata": {},
   "outputs": [],
   "source": [
    "obj.var1 = 10"
   ]
  },
  {
   "cell_type": "code",
   "execution_count": 76,
   "metadata": {},
   "outputs": [
    {
     "data": {
      "text/plain": [
       "10"
      ]
     },
     "execution_count": 76,
     "metadata": {},
     "output_type": "execute_result"
    }
   ],
   "source": [
    "obj.var1"
   ]
  },
  {
   "cell_type": "code",
   "execution_count": 77,
   "metadata": {},
   "outputs": [
    {
     "data": {
      "text/plain": [
       "12"
      ]
     },
     "execution_count": 77,
     "metadata": {},
     "output_type": "execute_result"
    }
   ],
   "source": [
    "obj._var2 = 12\n",
    "obj._var2"
   ]
  },
  {
   "cell_type": "code",
   "execution_count": 78,
   "metadata": {},
   "outputs": [
    {
     "ename": "AttributeError",
     "evalue": "'MyClass' object has no attribute '__var3'",
     "output_type": "error",
     "traceback": [
      "\u001b[1;31m---------------------------------------------------------------------------\u001b[0m",
      "\u001b[1;31mAttributeError\u001b[0m                            Traceback (most recent call last)",
      "\u001b[1;32m<ipython-input-78-a54df7e438a0>\u001b[0m in \u001b[0;36m<module>\u001b[1;34m\u001b[0m\n\u001b[1;32m----> 1\u001b[1;33m \u001b[0mobj\u001b[0m\u001b[1;33m.\u001b[0m\u001b[0m__var3\u001b[0m \u001b[1;31m# Private member is not accessible\u001b[0m\u001b[1;33m\u001b[0m\u001b[1;33m\u001b[0m\u001b[0m\n\u001b[0m",
      "\u001b[1;31mAttributeError\u001b[0m: 'MyClass' object has no attribute '__var3'"
     ]
    }
   ],
   "source": [
    "obj.__var3 # Private member is not accessible"
   ]
  },
  {
   "cell_type": "markdown",
   "metadata": {},
   "source": [
    "Getters and Setters ''\n",
    "\n",
    "The value of a private variable can be set by a Python method called setter method."
   ]
  },
  {
   "cell_type": "code",
   "execution_count": 80,
   "metadata": {},
   "outputs": [
    {
     "data": {
      "text/plain": [
       "22"
      ]
     },
     "execution_count": 80,
     "metadata": {},
     "output_type": "execute_result"
    }
   ],
   "source": [
    "class A:\n",
    "    def __init__(self,p):\n",
    "        self.__p = p #Defining private member\n",
    "    def getP(self): #Defining getters\n",
    "        return self.__p\n",
    "    def setP(self, p): #Defining Setters\n",
    "        self.__p = p\n",
    "a1=A(22)\n",
    "a1.getP() #Getting value through get function"
   ]
  },
  {
   "cell_type": "code",
   "execution_count": 81,
   "metadata": {},
   "outputs": [
    {
     "data": {
      "text/plain": [
       "43"
      ]
     },
     "execution_count": 81,
     "metadata": {},
     "output_type": "execute_result"
    }
   ],
   "source": [
    "a1.setP(43) #Setting value through set function\n",
    "a1.getP()"
   ]
  },
  {
   "cell_type": "markdown",
   "metadata": {},
   "source": [
    "Data hiding\n",
    "\n",
    "In Python programming, there might be some cases when you intend to hide the attributes of objects outside\n",
    "the class definition. To accomplish this, use double score ( __ ) before the name of the attributes and these\n",
    "attributes will not be visible directly outside the class definition. Let us understand the Python data hiding\n",
    "by a simple example given below:"
   ]
  },
  {
   "cell_type": "code",
   "execution_count": 83,
   "metadata": {},
   "outputs": [
    {
     "name": "stdout",
     "output_type": "stream",
     "text": [
      "2\n"
     ]
    }
   ],
   "source": [
    "class MyClass: # defining class\n",
    "    __a = 0;\n",
    "    def sum(self, increment):\n",
    "        self.__a += increment\n",
    "        print (self.__a)\n",
    "b = MyClass()\n",
    "b.sum(2)"
   ]
  },
  {
   "cell_type": "code",
   "execution_count": 84,
   "metadata": {},
   "outputs": [
    {
     "name": "stdout",
     "output_type": "stream",
     "text": [
      "7\n"
     ]
    }
   ],
   "source": [
    "b.sum(5)"
   ]
  },
  {
   "cell_type": "code",
   "execution_count": 94,
   "metadata": {},
   "outputs": [
    {
     "ename": "AttributeError",
     "evalue": "'MyClass' object has no attribute '__a'",
     "output_type": "error",
     "traceback": [
      "\u001b[1;31m---------------------------------------------------------------------------\u001b[0m",
      "\u001b[1;31mAttributeError\u001b[0m                            Traceback (most recent call last)",
      "\u001b[1;32m<ipython-input-94-18f1f426ee1c>\u001b[0m in \u001b[0;36m<module>\u001b[1;34m\u001b[0m\n\u001b[1;32m----> 1\u001b[1;33m \u001b[0mprint\u001b[0m \u001b[1;33m(\u001b[0m\u001b[0mb\u001b[0m\u001b[1;33m.\u001b[0m\u001b[0m__a\u001b[0m\u001b[1;33m)\u001b[0m\u001b[1;33m\u001b[0m\u001b[1;33m\u001b[0m\u001b[0m\n\u001b[0m",
      "\u001b[1;31mAttributeError\u001b[0m: 'MyClass' object has no attribute '__a'"
     ]
    }
   ],
   "source": [
    "print (b.__a)"
   ]
  },
  {
   "cell_type": "markdown",
   "metadata": {},
   "source": [
    "As seen in the above example that the variable __a is not accessible as we tried to access it; the Python\n",
    "interpreter generates an error immediately. In such a case, the Python secures the members by internally\n",
    "changing the names to incorporate the name of the class. If you intend to access these attributes then the\n",
    "syntax for accessing the variable is:\n",
    "\n",
    "               objectName.__className__attributeName"
   ]
  },
  {
   "cell_type": "code",
   "execution_count": 89,
   "metadata": {},
   "outputs": [],
   "source": [
    "class MyClass: # Defining class\n",
    "    __a = 0;\n",
    "    def sum(self, increment):\n",
    "        self.__a += increment\n",
    "        print (self.__a)"
   ]
  },
  {
   "cell_type": "code",
   "execution_count": 90,
   "metadata": {},
   "outputs": [
    {
     "name": "stdout",
     "output_type": "stream",
     "text": [
      "2\n"
     ]
    }
   ],
   "source": [
    "b = MyClass()\n",
    "b.sum(2)"
   ]
  },
  {
   "cell_type": "code",
   "execution_count": 91,
   "metadata": {},
   "outputs": [
    {
     "name": "stdout",
     "output_type": "stream",
     "text": [
      "7\n"
     ]
    }
   ],
   "source": [
    "b.sum(5)"
   ]
  },
  {
   "cell_type": "code",
   "execution_count": 93,
   "metadata": {},
   "outputs": [
    {
     "name": "stdout",
     "output_type": "stream",
     "text": [
      "7\n"
     ]
    }
   ],
   "source": [
    "print(b._MyClass__a) # Accessing the hidden variable"
   ]
  },
  {
   "cell_type": "code",
   "execution_count": null,
   "metadata": {},
   "outputs": [],
   "source": []
  }
 ],
 "metadata": {
  "kernelspec": {
   "display_name": "Python 3",
   "language": "python",
   "name": "python3"
  },
  "language_info": {
   "codemirror_mode": {
    "name": "ipython",
    "version": 3
   },
   "file_extension": ".py",
   "mimetype": "text/x-python",
   "name": "python",
   "nbconvert_exporter": "python",
   "pygments_lexer": "ipython3",
   "version": "3.8.5"
  }
 },
 "nbformat": 4,
 "nbformat_minor": 4
}

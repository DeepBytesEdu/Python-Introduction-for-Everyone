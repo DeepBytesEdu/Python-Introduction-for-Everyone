{
 "cells": [
  {
   "cell_type": "markdown",
   "metadata": {},
   "source": [
    "                               Functions \n",
    "IntroductIon\n",
    "\n",
    "Functions are self-contained programs that perform some particular tasks. Once a function is created by the\n",
    "programmer for a specific task, this function can be called anytime to perform that task.\n",
    "Suppose, we want to perform a task several times, in such a scenario, rather than writing code for that\n",
    "particular task repeatedly, we create a function for that task and call it when we want to perform the task.\n",
    "Each function is given a name, using which we call it. A function may or may not return a value.\n",
    "There are many built-in functions provided by Python such as dir(), len(), abs(), etc. Users can\n",
    "also build their own functions, which are called user-defined functions.\n",
    "\n",
    "There are many advantages of using functions:\n",
    "    \n",
    "a) They reduce duplication of code in a program.\n",
    "\n",
    "b) They break the large complex problems into small parts.\n",
    "\n",
    "c) They help in improving the clarity of code (i.e., make the code easy to understand).\n",
    "\n",
    "d) A piece of code can be reused as many times as we want with the help of functions."
   ]
  },
  {
   "cell_type": "markdown",
   "metadata": {},
   "source": [
    "BuIlt-In FunctIons\n",
    "\n",
    "Built-in functions are the functions already defined in the Python programming language; we can directly\n",
    "call them to perform a specific task. Every built-in function in Python performs some particular task.\n",
    "For example, the Math module has some mathematical built-in functions that perform tasks related to\n",
    "mathematics.\n",
    "\n",
    "In this section, we will see some built-in functions provided in the Python programming language."
   ]
  },
  {
   "cell_type": "code",
   "execution_count": 3,
   "metadata": {},
   "outputs": [
    {
     "data": {
      "text/plain": [
       "5"
      ]
     },
     "execution_count": 3,
     "metadata": {},
     "output_type": "execute_result"
    }
   ],
   "source": [
    "#Type Conversion\n",
    "\n",
    "int(5.5)\n",
    " \n",
    " \n",
    " "
   ]
  },
  {
   "cell_type": "markdown",
   "metadata": {},
   "source": [
    "Type Coercion"
   ]
  },
  {
   "cell_type": "markdown",
   "metadata": {},
   "source": [
    "Mathematical Functions"
   ]
  },
  {
   "cell_type": "code",
   "execution_count": 6,
   "metadata": {},
   "outputs": [
    {
     "name": "stdout",
     "output_type": "stream",
     "text": [
      "<module 'math' (built-in)>\n"
     ]
    }
   ],
   "source": [
    "import math\n",
    "print(math)"
   ]
  },
  {
   "cell_type": "code",
   "execution_count": 8,
   "metadata": {},
   "outputs": [
    {
     "data": {
      "text/plain": [
       "0.5984721441039564"
      ]
     },
     "execution_count": 8,
     "metadata": {},
     "output_type": "execute_result"
    }
   ],
   "source": [
    "decibel = 10 * math.log10(18.0)\n",
    "angle = 2.5\n",
    "height = math.sin(angle)\n",
    "height "
   ]
  },
  {
   "cell_type": "code",
   "execution_count": 9,
   "metadata": {},
   "outputs": [
    {
     "data": {
      "text/plain": [
       "0.7071067811865476"
      ]
     },
     "execution_count": 9,
     "metadata": {},
     "output_type": "execute_result"
    }
   ],
   "source": [
    "degree = 45\n",
    "angle = degree * 2 * math.pi/360.0\n",
    "math.cos(angle)"
   ]
  },
  {
   "cell_type": "markdown",
   "metadata": {},
   "source": [
    "Date and Time"
   ]
  },
  {
   "cell_type": "code",
   "execution_count": 11,
   "metadata": {},
   "outputs": [
    {
     "name": "stdout",
     "output_type": "stream",
     "text": [
      "Local current time : time.struct_time(tm_year=2021, tm_mon=6, tm_mday=24, tm_hour=19, tm_min=40, tm_sec=26, tm_wday=3, tm_yday=175, tm_isdst=0)\n"
     ]
    }
   ],
   "source": [
    "import time;\n",
    "localtime = time.localtime(time.time())\n",
    "print (\"Local current time :\", localtime)"
   ]
  },
  {
   "cell_type": "markdown",
   "metadata": {},
   "source": [
    "Getting formatted date and time:\n",
    "\n",
    "Though we can format time and date according to our interest, the most common method used to get\n",
    "time in readable format is asctime()"
   ]
  },
  {
   "cell_type": "code",
   "execution_count": 12,
   "metadata": {},
   "outputs": [
    {
     "name": "stdout",
     "output_type": "stream",
     "text": [
      "Local current time : Thu Jun 24 19:54:26 2021\n"
     ]
    }
   ],
   "source": [
    "import time;\n",
    "localtime = time.asctime(time.localtime(time.time()))\n",
    "print (\"Local current time :\", localtime)"
   ]
  },
  {
   "cell_type": "markdown",
   "metadata": {},
   "source": [
    "Getting calendar for a month:\n",
    "\n",
    "Python provides us a calendar module through which we can use yearly and monthly calendars\n",
    "according to our requirement. In the example below, we print a calendar for the month of October, 2015"
   ]
  },
  {
   "cell_type": "code",
   "execution_count": 13,
   "metadata": {},
   "outputs": [
    {
     "name": "stdout",
     "output_type": "stream",
     "text": [
      "Calender for October, 2015: \n",
      "     October 2015\n",
      "Mo Tu We Th Fr Sa Su\n",
      "          1  2  3  4\n",
      " 5  6  7  8  9 10 11\n",
      "12 13 14 15 16 17 18\n",
      "19 20 21 22 23 24 25\n",
      "26 27 28 29 30 31\n",
      "\n"
     ]
    }
   ],
   "source": [
    "import calendar\n",
    "c = calendar.month(2015,10)\n",
    "print(\"Calender for October, 2015: \\n\", c)"
   ]
  },
  {
   "cell_type": "markdown",
   "metadata": {},
   "source": [
    "dir() Function"
   ]
  },
  {
   "cell_type": "code",
   "execution_count": 14,
   "metadata": {},
   "outputs": [
    {
     "name": "stdout",
     "output_type": "stream",
     "text": [
      "['__doc__', '__loader__', '__name__', '__package__', '__spec__', 'acos', 'acosh', 'asin', 'asinh', 'atan', 'atan2', 'atanh', 'ceil', 'comb', 'copysign', 'cos', 'cosh', 'degrees', 'dist', 'e', 'erf', 'erfc', 'exp', 'expm1', 'fabs', 'factorial', 'floor', 'fmod', 'frexp', 'fsum', 'gamma', 'gcd', 'hypot', 'inf', 'isclose', 'isfinite', 'isinf', 'isnan', 'isqrt', 'ldexp', 'lgamma', 'log', 'log10', 'log1p', 'log2', 'modf', 'nan', 'perm', 'pi', 'pow', 'prod', 'radians', 'remainder', 'sin', 'sinh', 'sqrt', 'tan', 'tanh', 'tau', 'trunc']\n"
     ]
    }
   ],
   "source": [
    "import math\n",
    "list = dir(math)\n",
    "print(list)\n",
    "#Output\n",
    " "
   ]
  },
  {
   "cell_type": "markdown",
   "metadata": {},
   "source": [
    "help() FUNCTION"
   ]
  },
  {
   "cell_type": "code",
   "execution_count": 16,
   "metadata": {},
   "outputs": [
    {
     "name": "stdout",
     "output_type": "stream",
     "text": [
      "Help on built-in function sin in module math:\n",
      "\n",
      "sin(x, /)\n",
      "    Return the sine of x (measured in radians).\n",
      "\n"
     ]
    }
   ],
   "source": [
    "# import math module\n",
    "import math\n",
    "help(math.sin) \n",
    "#give detailed info about sin function in math module Help on built-in function sin in module math:"
   ]
  },
  {
   "cell_type": "markdown",
   "metadata": {},
   "source": [
    "composItIon oF FunctIons"
   ]
  },
  {
   "cell_type": "code",
   "execution_count": 17,
   "metadata": {},
   "outputs": [],
   "source": [
    "x = math.sin(angle + math.pi/4)\n",
    "print(x)"
   ]
  },
  {
   "cell_type": "code",
   "execution_count": 18,
   "metadata": {},
   "outputs": [
    {
     "name": "stdout",
     "output_type": "stream",
     "text": [
      "     March 1991\n",
      "Mo Tu We Th Fr Sa Su\n",
      "             1  2  3\n",
      " 4  5  6  7  8  9 10\n",
      "11 12 13 14 15 16 17\n",
      "18 19 20 21 22 23 24\n",
      "25 26 27 28 29 30 31\n",
      "\n"
     ]
    }
   ],
   "source": [
    "import calendar\n",
    "c = calendar.month(1991, 3)\n",
    "print(c)"
   ]
  },
  {
   "cell_type": "markdown",
   "metadata": {},
   "source": [
    "user deFIned FunctIons\n",
    "\n",
    "Syntax\n",
    "\n",
    "def functionname(parameters):\n",
    "\n",
    "    “function_docstring”\n",
    "    \n",
    "      statement(s)\n",
    "      \n",
    "      return [expression]"
   ]
  },
  {
   "cell_type": "code",
   "execution_count": 20,
   "metadata": {},
   "outputs": [
    {
     "ename": "SyntaxError",
     "evalue": "Missing parentheses in call to 'print'. Did you mean print(“Hello Python!!”)? (<ipython-input-20-800f2148682f>, line 2)",
     "output_type": "error",
     "traceback": [
      "\u001b[1;36m  File \u001b[1;32m\"<ipython-input-20-800f2148682f>\"\u001b[1;36m, line \u001b[1;32m2\u001b[0m\n\u001b[1;33m    print “Hello Python!!”\u001b[0m\n\u001b[1;37m               ^\u001b[0m\n\u001b[1;31mSyntaxError\u001b[0m\u001b[1;31m:\u001b[0m Missing parentheses in call to 'print'. Did you mean print(“Hello Python!!”)?\n"
     ]
    }
   ],
   "source": [
    "def print_lines():\n",
    "    print “Hello Python!!”\n",
    "    \n",
    "#print “Welcome to Python Programming!!”"
   ]
  },
  {
   "cell_type": "code",
   "execution_count": 26,
   "metadata": {},
   "outputs": [
    {
     "name": "stdout",
     "output_type": "stream",
     "text": [
      "Hello Python!!\n"
     ]
    }
   ],
   "source": [
    "def print_lines():\n",
    "    print(\"Hello Python!!\")\n",
    "#print “Welcome to Python Programming!!”\n",
    "print_lines()"
   ]
  },
  {
   "cell_type": "markdown",
   "metadata": {},
   "source": [
    "parameters and arguments"
   ]
  },
  {
   "cell_type": "code",
   "execution_count": 33,
   "metadata": {},
   "outputs": [
    {
     "name": "stdout",
     "output_type": "stream",
     "text": [
      "Hello\n"
     ]
    }
   ],
   "source": [
    "def print_lines(line):\n",
    "    print(line)\n",
    "\n",
    "print_lines('Hello')"
   ]
  },
  {
   "cell_type": "code",
   "execution_count": 34,
   "metadata": {},
   "outputs": [
    {
     "name": "stdout",
     "output_type": "stream",
     "text": [
      "17\n"
     ]
    }
   ],
   "source": [
    "print_lines(17)"
   ]
  },
  {
   "cell_type": "markdown",
   "metadata": {},
   "source": [
    "We can see that this function works with any type of value that can be displayed.\n",
    "There can be four types of formal arguments using which a function can be called which are as follows:\n",
    "\n",
    "1. Required arguments\n",
    "\n",
    "2. Keyword arguments\n",
    "\n",
    "3. Default arguments\n",
    "\n",
    "4. Variable-length arguments\n",
    "\n",
    "\n",
    "1. Required arguments:\n",
    "\n",
    "When we assign the parameters to a function at the time of function definition, at\n",
    "the time of calling, the arguments should be passed to a function in correct positional order; furthermore,\n",
    "the number of arguments should match the defined number of parameters"
   ]
  },
  {
   "cell_type": "markdown",
   "metadata": {},
   "source": [
    "def  print_lines(str)\n",
    "\n",
    "     print str\n",
    "     \n",
    "     return;\n",
    "     \n",
    "2. Keyword arguments In keyword arguments, the caller recognises the arguments by the parameter’s\n",
    "names. This type of argument can also be skipped or can also be out of order."
   ]
  },
  {
   "cell_type": "code",
   "execution_count": 39,
   "metadata": {},
   "outputs": [
    {
     "name": "stdout",
     "output_type": "stream",
     "text": [
      "Name: john\n",
      "Age: 15\n"
     ]
    }
   ],
   "source": [
    "def print_info(name, age):\n",
    "    print(\"Name:\", name)\n",
    "    print (\"Age:\", age)\n",
    "    return\n",
    "\n",
    "# function calling\n",
    "print_info(age=15, name=\"john\")"
   ]
  },
  {
   "cell_type": "markdown",
   "metadata": {},
   "source": [
    "3. Default arguments \n",
    "\n",
    "In default arguments, we can assign a value to a parameter at the time of function\n",
    "definition. This value is considered the default value to that parameter. If we do not provide a value to the\n",
    "parameter at the time of calling, it will not produce an error. Instead it will pick the default value and use it."
   ]
  },
  {
   "cell_type": "code",
   "execution_count": 46,
   "metadata": {},
   "outputs": [
    {
     "name": "stdout",
     "output_type": "stream",
     "text": [
      "Name: john\n",
      "Age: 20\n"
     ]
    }
   ],
   "source": [
    "# Function definition\n",
    "def print_info(name, age=35):\n",
    "    print (\"Name:\",name)\n",
    "    print (\"Age:\", age)\n",
    "    return\n",
    "           \n",
    "# function calling\n",
    "print_info(age=20, name=\"john\")"
   ]
  },
  {
   "cell_type": "code",
   "execution_count": 47,
   "metadata": {},
   "outputs": [
    {
     "name": "stdout",
     "output_type": "stream",
     "text": [
      "Name: john\n",
      "Age: 35\n"
     ]
    }
   ],
   "source": [
    "print_info(name=\"john\");"
   ]
  },
  {
   "cell_type": "markdown",
   "metadata": {},
   "source": [
    "4. Variable-length arguments \n",
    "\n",
    "There are many cases where we are required to process a function with more\n",
    "number of arguments than we specified in the function definition. These types of arguments are known\n",
    "as variable-length arguments. The names for these arguments are not specified in the function definition.\n",
    "Instead we use an asterisk (*) before the name of the variable which holds the value for all non-keyword\n",
    "variable arguments.\n",
    "\n",
    "Syntax\n",
    "\n",
    "def function_name([formal_args] *var_args_tuple):\n",
    "\n",
    "“function_docstring”\n",
    "\n",
    "function_body\n",
    "\n",
    "return[expression]"
   ]
  },
  {
   "cell_type": "code",
   "execution_count": 55,
   "metadata": {},
   "outputs": [
    {
     "name": "stdout",
     "output_type": "stream",
     "text": [
      "Result is:\n",
      "10\n"
     ]
    }
   ],
   "source": [
    "# function definition here\n",
    "def print_info(arg1,*vartuple):\n",
    "    print (\"Result is:\")\n",
    "    print (arg1)\n",
    "    for var in vartuple:\n",
    "        print (var)\n",
    "    return\n",
    "# function call\n",
    "print_info(10);"
   ]
  },
  {
   "cell_type": "code",
   "execution_count": 56,
   "metadata": {},
   "outputs": [
    {
     "name": "stdout",
     "output_type": "stream",
     "text": [
      "Result is:\n",
      "90\n",
      "60\n",
      "40\n"
     ]
    }
   ],
   "source": [
    "print_info(90,60,40);"
   ]
  },
  {
   "cell_type": "markdown",
   "metadata": {},
   "source": [
    "FunctIon calls\n",
    "\n",
    "All parameters (arguments) which are passed in functions are always passed by reference in Python. This\n",
    "means that if the values of the parameters are changed in the function, it will also reflect the change in the\n",
    "calling function\n"
   ]
  },
  {
   "cell_type": "code",
   "execution_count": 63,
   "metadata": {},
   "outputs": [
    {
     "name": "stdout",
     "output_type": "stream",
     "text": [
      "First String\n",
      "Second String\n"
     ]
    }
   ],
   "source": [
    "# Function definition here\n",
    "def printstring(str):\n",
    "    #This prints the passed string into this function”#Docstring\n",
    "    print(str);\n",
    "    return;\n",
    "# Now we can call printstring function here\n",
    "printstring('First String');\n",
    "printstring('Second String');"
   ]
  },
  {
   "cell_type": "code",
   "execution_count": 66,
   "metadata": {},
   "outputs": [
    {
     "name": "stdout",
     "output_type": "stream",
     "text": [
      "12\n"
     ]
    }
   ],
   "source": [
    "#Multiplication of two numbers using function.\n",
    "def mult(a,b):\n",
    "    multiplication = a*b\n",
    "    return multiplication\n",
    "# Now calling the function here\n",
    "a = 4\n",
    "b = 3\n",
    "m = mult(a,b) # calling the mult function\n",
    "print(m)"
   ]
  },
  {
   "cell_type": "code",
   "execution_count": 67,
   "metadata": {},
   "outputs": [
    {
     "name": "stdout",
     "output_type": "stream",
     "text": [
      "7\n"
     ]
    }
   ],
   "source": [
    "def sum(arg1,arg2):\n",
    "    sum = arg1 + arg2\n",
    "    return sum\n",
    "# Now calling the function here\n",
    "a = 4\n",
    "b = 3\n",
    "total = sum(a,b) # calling the mult function\n",
    "print(total)"
   ]
  },
  {
   "cell_type": "markdown",
   "metadata": {},
   "source": [
    "The return statement\n",
    "\n",
    "The return statement is used to exit a function. A function may or may not return a value. If a function returns\n",
    "a value, it is passed back by the return statement as argument to the caller. If it does not return a value, we\n",
    "simply write return with no arguments."
   ]
  },
  {
   "cell_type": "code",
   "execution_count": 69,
   "metadata": {},
   "outputs": [
    {
     "name": "stdout",
     "output_type": "stream",
     "text": [
      "2.0\n"
     ]
    }
   ],
   "source": [
    "# function definition here\n",
    "def div(arg1, arg2):\n",
    "    division = arg1/arg2\n",
    "    return division\n",
    "arg3 = div(20,10)\n",
    "print(arg3)"
   ]
  },
  {
   "cell_type": "code",
   "execution_count": 1,
   "metadata": {},
   "outputs": [
    {
     "data": {
      "text/plain": [
       "24"
      ]
     },
     "execution_count": 1,
     "metadata": {},
     "output_type": "execute_result"
    }
   ],
   "source": [
    "#python recursIve FunctIon\n",
    "\n",
    "def fact_rec(x):\n",
    "    if x == 1:\n",
    "        return (1)\n",
    "    else:\n",
    "        return(x * fact_rec(x-1))\n",
    "\n",
    "fact_rec(4)"
   ]
  },
  {
   "cell_type": "markdown",
   "metadata": {},
   "source": [
    "4.9 the anonymous FunctIons\n",
    "\n",
    "The anonymous functions are the functions created using a lambda keyword. They are not defined by using\n",
    "def keyword. For this reason, they are called anonymous functions.\n",
    "\n",
    "We can pass any number of arguments to a lambda form functions, but still they return only one value in\n",
    "the form of expression. An anonymous function cannot directly call print command as the lambda needs\n",
    "an expression. It cannot access the parameters that are not defined in its own namespace. An anonymous\n",
    "function is a single line statement function.\n",
    "\n",
    "lambda [arg1[,arg2,......argn]]:\n",
    "\n",
    "expression"
   ]
  },
  {
   "cell_type": "code",
   "execution_count": 4,
   "metadata": {},
   "outputs": [
    {
     "name": "stdout",
     "output_type": "stream",
     "text": [
      "value: 800\n"
     ]
    }
   ],
   "source": [
    "#Example\n",
    "# function definition here\n",
    "mult = lambda val1, val2: val1*val2;\n",
    "# function call here\n",
    "print (\"value:\", mult(20,40))\n",
    " "
   ]
  },
  {
   "cell_type": "markdown",
   "metadata": {},
   "source": [
    "WrItIng python scrIpts\n",
    "\n",
    "As discussed in Chapter 3, the first and most common way to use python is to write code into a file and run\n",
    "the file as a script using python interpreter. Any text editor can be used to create the script file, in which any\n",
    "valid python statements can be written. Python script is usually saved with extension ‘.py’. Python code in\n",
    "a file is also called a module. Just placing loose python statements into text file and executing it will work,\n",
    "but the good structure of a python file looks like as follows:\n",
    "\n",
    "Few more example:-"
   ]
  },
  {
   "cell_type": "code",
   "execution_count": 5,
   "metadata": {},
   "outputs": [
    {
     "data": {
      "text/plain": [
       "1"
      ]
     },
     "execution_count": 5,
     "metadata": {},
     "output_type": "execute_result"
    }
   ],
   "source": [
    " #Write a function to find the HCF of some given numbers.\n",
    "    \n",
    "def hcf(a, b):\n",
    "    if a > b:\n",
    "        small = b\n",
    "    else:\n",
    "        small = a\n",
    "    for i in range (1, small + 1):\n",
    "        if((a % i == 0) and (b % i == 0)):\n",
    "            hcf = i\n",
    "            return hcf\n",
    "\n",
    "hcf(20,40)"
   ]
  },
  {
   "cell_type": "code",
   "execution_count": 6,
   "metadata": {},
   "outputs": [
    {
     "data": {
      "text/plain": [
       "1"
      ]
     },
     "execution_count": 6,
     "metadata": {},
     "output_type": "execute_result"
    }
   ],
   "source": [
    "hcf(529,456)"
   ]
  },
  {
   "cell_type": "code",
   "execution_count": 7,
   "metadata": {},
   "outputs": [
    {
     "name": "stdout",
     "output_type": "stream",
     "text": [
      "1\n",
      "2\n",
      "5\n",
      "7\n",
      "10\n",
      "14\n",
      "35\n",
      "70\n"
     ]
    }
   ],
   "source": [
    "#Write a function to display the factors of a given number.\n",
    "def factors(a):\n",
    "    for i in range (1, a + 1):\n",
    "        if a % i == 0:\n",
    "            print(i)\n",
    "factors(70)"
   ]
  },
  {
   "cell_type": "code",
   "execution_count": 12,
   "metadata": {},
   "outputs": [
    {
     "name": "stdout",
     "output_type": "stream",
     "text": [
      "The ASCII value of Ais 65\n"
     ]
    }
   ],
   "source": [
    "#Write a function to find the ASCII value of the character\n",
    "def ascii_val_of(a):\n",
    "    print(\"The ASCII value of \" + a + \"is\", ord(a))\n",
    "    \n",
    "ascii_val_of(\"A\")"
   ]
  },
  {
   "cell_type": "code",
   "execution_count": 17,
   "metadata": {},
   "outputs": [
    {
     "name": "stdout",
     "output_type": "stream",
     "text": [
      "0b1010 binary equivalent\n",
      "0o12 octal equivalent\n",
      "0xa exadecimal equivalent\n"
     ]
    }
   ],
   "source": [
    "#Write a function to convert a decimal number to its binary, octal and hexadecimal equivalents.\n",
    "def bin_oct_hex(a):\n",
    "    print(bin(a), \"binary equivalent\")\n",
    "    print(oct(a), \"octal equivalent\")\n",
    "    print(hex(a), \"exadecimal equivalent\")\n",
    "    \n",
    "bin_oct_hex(10) #Finding binary, octal, hex value of 10"
   ]
  },
  {
   "cell_type": "code",
   "execution_count": 20,
   "metadata": {},
   "outputs": [
    {
     "name": "stdout",
     "output_type": "stream",
     "text": [
      "How many terms?12\n",
      "0\n",
      "1\n",
      "1\n",
      "2\n",
      "3\n",
      "5\n",
      "8\n",
      "13\n",
      "21\n",
      "34\n",
      "55\n",
      "89\n"
     ]
    }
   ],
   "source": [
    " #Write a function to display Fibonacci sequence using recursion.\n",
    "def fib_rec(x):\n",
    "    if x <= 1:\n",
    "        return x\n",
    "    else:\n",
    "        return(fib_rec(x-1) + fib_rec(x-2))\n",
    "# Take input for number of terms from user\n",
    "num_terms = int(input(\"How many terms?\"))\n",
    "for i in range(num_terms):\n",
    "    print(fib_rec(i))"
   ]
  },
  {
   "cell_type": "code",
   "execution_count": 21,
   "metadata": {},
   "outputs": [
    {
     "data": {
      "text/plain": [
       "6"
      ]
     },
     "execution_count": 21,
     "metadata": {},
     "output_type": "execute_result"
    }
   ],
   "source": [
    "#Write a function to find the sum of several natural numbers using recursion\n",
    "\n",
    "def sum_rec(n):\n",
    "    if n <= 1:\n",
    "        return n\n",
    "    else:\n",
    "        return n + sum_rec(n-1)\n",
    "\n",
    "sum_rec(3)"
   ]
  },
  {
   "cell_type": "code",
   "execution_count": null,
   "metadata": {},
   "outputs": [],
   "source": [
    "# A Python Program that demonstrates the built-in functions\n",
    "# Python program to demonstrate built in functions\n",
    "#We consider this variable to be the controller of the loop.\n",
    "# value 1 denotes the loop.\n",
    "# other than 1 means do not loop.\n",
    "lp = 1\n",
    "#the choice variable is used to read the menu choices:\n",
    "ch = 0\n",
    "while lp == 1:\n",
    "    #print what options you have\n",
    "    print (\"Welcome to Chap4.py\")\n",
    "    print (\"your options are:\")\n",
    "    print (\" \")\n",
    "    print (\"1) Demonstrate conversion\")\n",
    "    print (\"2) Integer to float conversion\")\n",
    "    print (\"3) Mathematical Functions\")\n",
    "    print( \"4) Date and time\")\n",
    "    print (\"5) Quit Chap4.py\")\n",
    "    print (\" \")\n",
    "    ch = input(\"Enter the option (1-5):\" )\n",
    "    if ch == 1:\n",
    "        # Read the decimal number from the user\n",
    "        decnum = int(input(\"Enter the value of an integer:\"))\n",
    "        print (\"The decimal value of\", decnum ,\" is:\")\n",
    "        print (bin(decnum),\"in binarynumber.\")\n",
    "        print (oct(decnum),\"in octalnumber.\")\n",
    "        print (hex(decnum),\"in hexadecimalnumber.\")\n",
    "    elif ch == 2:\n",
    "        decnum2 = int(input(\"Enter the value of an integer: \"))\n",
    "        fltnum2 = float(decnum2)\n",
    "        print (\"float value is\", fltnum2)\n",
    "    elif ch == 3:\n",
    "        import math\n",
    "        num3 = float(input(\"enter n in float:\"))\n",
    "        print (\"Floor value is:\",math.floor(num3))\n",
    "        print (\"Round value is :\",round(num3))\n",
    "        print (\"Ceil value is :\",math.ceil(num3))\n",
    "        decnum3 = int(input(\"Enter the value of an integer:\"))\n",
    "        print (\"Absolute value is\",abs(decnum3))\n",
    "        print (\"Square root is\",math.sqrt(decnum3))\n",
    "    elif ch == 4:\n",
    "        import datetime\n",
    "        today = datetime.date.today()\n",
    "        print (today)\n",
    "        print (\"ctime:\", today.ctime())\n",
    "        print (\"tuple:\", today.timetuple())\n",
    "        print (\"ordinal:\", today.toordinal())\n",
    "        print (\"Year:\", today.year)\n",
    "        print (\"Mon :\", today.month)\n",
    "        print (\"Day :\", today.day)\n",
    "    elif ch == 5:\n",
    "        lp = 0\n",
    "        print (\"Thankyou for using Chap4.py!\")"
   ]
  },
  {
   "cell_type": "code",
   "execution_count": null,
   "metadata": {},
   "outputs": [],
   "source": [
    "#A python program to print the current directory\n",
    "#A Python program to implement recursion for factorial of a number that demonstrates the user defined function and return statement.\n",
    "def fact(n):\n",
    "    if n == 1:\n",
    "        return n\n",
    "    else:\n",
    "        return n * fact(n-1)\n",
    "\n",
    "num = int(input(\"Enter a number:\"))\n",
    "if num < 0:\n",
    "    print (\"Factorial for negative values not exist\")\n",
    "elif num == 0:\n",
    "    print (\"Factorial is 1\")\n",
    "else:\n",
    "    print( \"Factorial of \",num, \"is\",fact(num))"
   ]
  },
  {
   "cell_type": "code",
   "execution_count": null,
   "metadata": {},
   "outputs": [],
   "source": []
  }
 ],
 "metadata": {
  "kernelspec": {
   "display_name": "Python 3",
   "language": "python",
   "name": "python3"
  },
  "language_info": {
   "codemirror_mode": {
    "name": "ipython",
    "version": 3
   },
   "file_extension": ".py",
   "mimetype": "text/x-python",
   "name": "python",
   "nbconvert_exporter": "python",
   "pygments_lexer": "ipython3",
   "version": "3.8.5"
  }
 },
 "nbformat": 4,
 "nbformat_minor": 4
}
